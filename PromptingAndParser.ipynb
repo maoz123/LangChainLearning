{
 "cells": [
  {
   "cell_type": "code",
   "execution_count": 4,
   "id": "03ef0234-f63d-4e68-8024-a8bfd1b8f52f",
   "metadata": {},
   "outputs": [
    {
     "name": "stdout",
     "output_type": "stream",
     "text": [
      "你好！有什么我可以帮助你的吗？\n"
     ]
    }
   ],
   "source": [
    "import os\n",
    "import qianfan\n",
    "from langchain_community.llms import QianfanLLMEndpoint\n",
    "from dotenv import load_dotenv, find_dotenv\n",
    "\n",
    "_ = load_dotenv(find_dotenv())\n",
    "\n",
    "llm = QianfanLLMEndpoint(streaming=True, model=\"ERNIE-Speed-128K\")\n",
    "res = llm.invoke(\"hi\")\n",
    "print(res)"
   ]
  },
  {
   "cell_type": "code",
   "execution_count": 25,
   "id": "a7643d55-a6ff-4451-8b4a-b444563e1659",
   "metadata": {},
   "outputs": [],
   "source": [
    "def get_completion(prompt, model=\"ERNIE-Speed-128K\"):\n",
    "    prompts = [prompt]\n",
    "    response = llm.generate(prompts=prompts,\n",
    "    streaming=True,\n",
    "    temperature = 0.1)\n",
    "    return response.generations[0][0].text"
   ]
  },
  {
   "cell_type": "code",
   "execution_count": 26,
   "id": "267d7802-de2d-4bc8-ad20-9cc0126a7136",
   "metadata": {},
   "outputs": [],
   "source": [
    "resp = get_completion(\"what is 1 + 1 ?\")"
   ]
  },
  {
   "cell_type": "code",
   "execution_count": 27,
   "id": "b1d56a3c-9753-448d-a165-ae7953d56133",
   "metadata": {},
   "outputs": [
    {
     "name": "stdout",
     "output_type": "stream",
     "text": [
      "1 + 1 等于 2。\n"
     ]
    }
   ],
   "source": [
    "print(resp)"
   ]
  },
  {
   "cell_type": "code",
   "execution_count": 30,
   "id": "4823606d-b182-4c0a-9f5e-91d460b1ea47",
   "metadata": {},
   "outputs": [],
   "source": [
    "customer_email = \"\"\"\n",
    "Arrr, I be fuming that me blender lid \\\n",
    "flew off and splattered me kitchen walls \\\n",
    "with smoothie! And to make matters worse, \\\n",
    "the warrantly don't cover the cost of \\\n",
    "cleaning up me kitchen. I need yer help right now, matey!\n",
    "\"\"\""
   ]
  },
  {
   "cell_type": "code",
   "execution_count": 31,
   "id": "bccdd252-9dcf-41c3-9098-295a41e2e1e2",
   "metadata": {},
   "outputs": [],
   "source": [
    "style = \"\"\"American English \\\n",
    "in a calm and respectful tone\n",
    "\"\"\""
   ]
  },
  {
   "cell_type": "code",
   "execution_count": 32,
   "id": "2b36e9a2-450a-41f8-a679-8a895d6c83a0",
   "metadata": {},
   "outputs": [
    {
     "name": "stdout",
     "output_type": "stream",
     "text": [
      "Translate the text that is delimited by triple backticks\n",
      "into a style that is American English in a calm and respectful tone\n",
      ".\n",
      "text: ```\n",
      "Arrr, I be fuming that me blender lid flew off and splattered me kitchen walls with smoothie! And to make matters worse, the warrantly don't cover the cost of cleaning up me kitchen. I need yer help right now, matey!\n",
      "```\n",
      "\n"
     ]
    }
   ],
   "source": [
    "prompt = f\"\"\"Translate the text \\\n",
    "that is delimited by triple backticks\n",
    "into a style that is {style}.\n",
    "text: ```{customer_email}```\n",
    "\"\"\"\n",
    "print(prompt)"
   ]
  },
  {
   "cell_type": "code",
   "execution_count": 35,
   "id": "2ef808b5-5179-41e9-9d10-d0222895afee",
   "metadata": {},
   "outputs": [],
   "source": [
    "resp = get_completion(prompt)"
   ]
  },
  {
   "cell_type": "code",
   "execution_count": 36,
   "id": "69b4f3f9-7982-4b7f-abc7-c79da2c4618c",
   "metadata": {},
   "outputs": [
    {
     "name": "stdout",
     "output_type": "stream",
     "text": [
      "Oh man, I'm so frustrated that my blender lid flew off and splashed my kitchen walls with a smoothie mess! And to make things even worse, the warranty doesn't cover the cost of cleaning up my kitchen. I really need your help right now, buddy! Please assist me in this situation.\n"
     ]
    }
   ],
   "source": [
    "print(resp)"
   ]
  },
  {
   "cell_type": "code",
   "execution_count": 40,
   "id": "0c579d65-066d-46c4-b096-b6ca0d635a53",
   "metadata": {},
   "outputs": [],
   "source": [
    "from langchain_community.chat_models import QianfanChatEndpoint\n",
    "from langchain_core.language_models.chat_models import HumanMessage\n",
    "messages = [HumanMessage(content=\"Hello\")]\n",
    "chat = QianfanChatEndpoint(streaming=True, model=\"ERNIE-Speed-128K\")\n",
    "re = llm.invoke(messages)"
   ]
  },
  {
   "cell_type": "code",
   "execution_count": 42,
   "id": "94dab22b-5014-4b27-aa3d-1e5eafd271fa",
   "metadata": {},
   "outputs": [
    {
     "data": {
      "text/plain": [
       "QianfanChatEndpoint(init_kwargs={}, model_kwargs={}, client=<qianfan.resources.llm.chat_completion.ChatCompletion object at 0x0000021E51375290>, qianfan_ak=SecretStr(''), qianfan_sk=SecretStr(''), streaming=True, model='ERNIE-Speed-128K')"
      ]
     },
     "execution_count": 42,
     "metadata": {},
     "output_type": "execute_result"
    }
   ],
   "source": [
    "chat"
   ]
  },
  {
   "cell_type": "code",
   "execution_count": 50,
   "id": "cc1b4162-5536-4482-89b8-a5097a11249c",
   "metadata": {},
   "outputs": [],
   "source": [
    "template_string = \"\"\"Translate the text \\\n",
    "that is delimited by triple backticks\n",
    "into a style that is {style}.\n",
    "text: ```{text}```\n",
    "\"\"\""
   ]
  },
  {
   "cell_type": "code",
   "execution_count": 51,
   "id": "0b9c9ee7-196e-4b18-aab2-510c29568c2a",
   "metadata": {},
   "outputs": [],
   "source": [
    "from langchain.prompts import ChatPromptTemplate\n",
    "prompt_template = ChatPromptTemplate.from_template(template_string)"
   ]
  },
  {
   "cell_type": "code",
   "execution_count": 52,
   "id": "8ef54ee5-4f9c-4c19-88bb-be99035626c3",
   "metadata": {},
   "outputs": [
    {
     "data": {
      "text/plain": [
       "['style', 'text']"
      ]
     },
     "execution_count": 52,
     "metadata": {},
     "output_type": "execute_result"
    }
   ],
   "source": [
    "prompt_template.messages[0].prompt.input_variables"
   ]
  },
  {
   "cell_type": "code",
   "execution_count": 53,
   "id": "a168f779-367d-4422-a08e-57535dd70856",
   "metadata": {},
   "outputs": [],
   "source": [
    "customer_style = \"\"\"American English \\\n",
    "in a calm and respectful tone\n",
    "\"\"\""
   ]
  },
  {
   "cell_type": "code",
   "execution_count": 54,
   "id": "01fbb9c5-8b02-444b-b2ac-71af87c0231c",
   "metadata": {},
   "outputs": [],
   "source": [
    "customer_messages = prompt_template.format_messages(style=customer_style, text=customer_email)"
   ]
  },
  {
   "cell_type": "code",
   "execution_count": 55,
   "id": "8abb10e1-d656-4228-8756-f46b371c5680",
   "metadata": {},
   "outputs": [
    {
     "name": "stdout",
     "output_type": "stream",
     "text": [
      "<class 'list'>\n"
     ]
    }
   ],
   "source": [
    "print(type(customer_messages))"
   ]
  },
  {
   "cell_type": "code",
   "execution_count": 57,
   "id": "4c53f900-de23-4256-b00f-ebefa0685d09",
   "metadata": {},
   "outputs": [],
   "source": [
    "customer_response = chat.invoke(customer_messages)"
   ]
  },
  {
   "cell_type": "code",
   "execution_count": 59,
   "id": "8545eaef-aa3c-470e-bd7c-bf4dfa104295",
   "metadata": {},
   "outputs": [
    {
     "name": "stdout",
     "output_type": "stream",
     "text": [
      "Ah, I'm furious that my blender lid flew off and splashed my kitchen walls with a smoothie mess! And to make things even worse, the warranty doesn't cover the cost of cleaning my kitchen. I need your help right now, buddy! Please assist me in resolving this issue in a calm and respectful manner.\n"
     ]
    }
   ],
   "source": [
    "print(customer_response.content)"
   ]
  },
  {
   "cell_type": "code",
   "execution_count": 60,
   "id": "b0945da9-0c1c-4de5-96c3-603dde6ced57",
   "metadata": {},
   "outputs": [],
   "source": [
    "service_reply = \"\"\"\n",
    "Hey there cusotmer, \\\n",
    "the warrantly does not cover \\\n",
    "cleaning expenses for your kitchen \\\n",
    "because it's your fault that \\\n",
    "by forgetting to put the lid on before \\\n",
    "starting the blender. \\\n",
    "Tough luck! See ya!\n",
    "\"\"\""
   ]
  },
  {
   "cell_type": "code",
   "execution_count": 61,
   "id": "be49b06b-775a-4a7e-ae94-70d7a886c91f",
   "metadata": {},
   "outputs": [],
   "source": [
    "service_style_pirate = \"\"\"\\\n",
    "a polite tone \\\n",
    "that speaks in English Pirate\n",
    "\"\"\""
   ]
  },
  {
   "cell_type": "code",
   "execution_count": 64,
   "id": "ad39d77c-9267-4e5e-bbfa-0f7d89b8e71a",
   "metadata": {},
   "outputs": [],
   "source": [
    "message = prompt_template.format(style=service_style_pirate, text = service_reply)"
   ]
  },
  {
   "cell_type": "markdown",
   "id": "922a48d1-b095-41d0-9e62-3a0e8e78ae03",
   "metadata": {},
   "source": [
    "chat.invoke(message)"
   ]
  },
  {
   "cell_type": "code",
   "execution_count": 66,
   "id": "91090ab9-c21a-4800-8c4c-4c653c57c3de",
   "metadata": {},
   "outputs": [],
   "source": [
    "resp = chat.invoke(message).content"
   ]
  },
  {
   "cell_type": "code",
   "execution_count": 67,
   "id": "284b78a2-7262-43fc-bae5-354028455bc9",
   "metadata": {},
   "outputs": [
    {
     "name": "stdout",
     "output_type": "stream",
     "text": [
      "Hey there, pirate customer! The warranty in question doesn't cover the cleaning expenses for your kitchen due to your oversight of not placing the blender lid before operating it. Sorry, mate, but that's the break of the day. Take care and see you around the sea!\n"
     ]
    }
   ],
   "source": [
    "print(resp)"
   ]
  },
  {
   "cell_type": "code",
   "execution_count": 68,
   "id": "d6183fad-b69c-4c4e-ac24-08dd782223db",
   "metadata": {},
   "outputs": [],
   "source": [
    "customer_review = \"\"\"\\\n",
    "This leaf blower is pretty amazing. It has four settings:\\\n",
    "candle blower, gentle breeze, windy city, and tournado. \\\n",
    "It arrived in two days, just in time for my wife's \\\n",
    "anniversary present. \\\n",
    "I think my wife liked it so much she was speechless. \\\n",
    "So far I've been the only one using it, and I've been \\\n",
    "using it every other morning to clear the leaves on our lawn. \\\n",
    "It's slightly more expensive than the other leaf blowers \\\n",
    "out there, but I think it's a worth it for the extra features.\n",
    "\"\"\"\n",
    "\n",
    "review_template = \"\"\"\\\n",
    "For the following text, extract the following information:\n",
    "\n",
    "gift: Was the item purchased as a gift for someone else? Answer True if yes, False if not or unkonwn. \\\n",
    "delivery_days: How many days did it take for the product to arrive? If this information is not found, output -1. \\\n",
    "price_value: Extract any sentences about the value or price, and output them as a comma separated Python list. \\\n",
    "\n",
    "Format the output as JSON with the following keys:\n",
    "gift\n",
    "delivery_days\n",
    "price_value\n",
    "\n",
    "text: {text}\n",
    "\"\"\""
   ]
  },
  {
   "cell_type": "code",
   "execution_count": 74,
   "id": "9d10d506-ee87-4040-b835-1ba86e7c79ee",
   "metadata": {},
   "outputs": [],
   "source": [
    "extract_template = prompt_template.from_template(review_template)"
   ]
  },
  {
   "cell_type": "code",
   "execution_count": 75,
   "id": "219268a1-9097-451d-94f2-6648ca1bfd30",
   "metadata": {},
   "outputs": [
    {
     "name": "stdout",
     "output_type": "stream",
     "text": [
      "input_variables=['text'] input_types={} partial_variables={} messages=[HumanMessagePromptTemplate(prompt=PromptTemplate(input_variables=['text'], input_types={}, partial_variables={}, template='For the following text, extract the following information:\\n\\ngift: Was the item purchased as a gift for someone else? Answer True if yes, False if not or unkonwn. delivery_days: How many days did it take for the product to arrive? If this information is not found, output -1. price_value: Extract any sentences about the value or price, and output them as a comma separated Python list. \\nFormat the output as JSON with the following keys:\\ngift\\ndelivery_days\\nprice_value\\n\\ntext: {text}\\n'), additional_kwargs={})]\n"
     ]
    }
   ],
   "source": [
    "print(extract_template)"
   ]
  },
  {
   "cell_type": "code",
   "execution_count": 79,
   "id": "481b690a-bdba-4f03-a6bb-8d0790393a7d",
   "metadata": {},
   "outputs": [
    {
     "name": "stdout",
     "output_type": "stream",
     "text": [
      "Based on the provided text, here is the extracted information formatted as JSON:\n",
      "\n",
      "\n",
      "```json\n",
      "{\n",
      "  \"gift\": true,\n",
      "  \"delivery_days\": 2,\n",
      "  \"price_value\": [\"It's slightly more expensive than the other leaf blowers out there.\", \"I think it's a worth it for the extra features.\"]\n",
      "}\n",
      "```\n",
      "Explanation:\n",
      "\n",
      "* The item was purchased as a gift for someone else (in this case, the wife's anniversary present), so the answer for \"gift\" is True.\n",
      "* The product arrived in two days, so the value for \"delivery_days\" is 2.\n",
      "* The sentences about the value or price of the item are \"It's slightly more expensive than the other leaf blowers out there\" and \"I think it's a worth it for the extra features\". These are combined into a comma-separated list and provided as the value for \"price_value\".\n"
     ]
    }
   ],
   "source": [
    "messages = extract_template.format_messages(text=customer_review)\n",
    "response = chat.invoke(messages)\n",
    "print(response.content)"
   ]
  },
  {
   "cell_type": "code",
   "execution_count": 80,
   "id": "13cf07d6-eeac-40ec-94ba-76e344aa2788",
   "metadata": {},
   "outputs": [
    {
     "data": {
      "text/plain": [
       "str"
      ]
     },
     "execution_count": 80,
     "metadata": {},
     "output_type": "execute_result"
    }
   ],
   "source": [
    "type(response.content)"
   ]
  },
  {
   "cell_type": "code",
   "execution_count": 81,
   "id": "d9351cef-3528-40f0-bb8d-2a9f7742d080",
   "metadata": {},
   "outputs": [
    {
     "data": {
      "text/plain": [
       "AIMessage(content='Based on the provided text, here is the extracted information formatted as JSON:\\n\\n\\n```json\\n{\\n  \"gift\": true,\\n  \"delivery_days\": 2,\\n  \"price_value\": [\"It\\'s slightly more expensive than the other leaf blowers out there.\", \"I think it\\'s a worth it for the extra features.\"]\\n}\\n```\\nExplanation:\\n\\n* The item was purchased as a gift for someone else (in this case, the wife\\'s anniversary present), so the answer for \"gift\" is True.\\n* The product arrived in two days, so the value for \"delivery_days\" is 2.\\n* The sentences about the value or price of the item are \"It\\'s slightly more expensive than the other leaf blowers out there\" and \"I think it\\'s a worth it for the extra features\". These are combined into a comma-separated list and provided as the value for \"price_value\".', additional_kwargs={}, response_metadata={'token_usage': {'input_tokens': 234, 'output_tokens': 204, 'total_tokens': 438}, 'model_name': 'ERNIE-Speed-128K', 'finish_reason': 'stop'}, id='run-da71f60a-9c1e-4843-8802-553e7cdfcb14-0', usage_metadata={'input_tokens': 234, 'output_tokens': 204, 'total_tokens': 438})"
      ]
     },
     "execution_count": 81,
     "metadata": {},
     "output_type": "execute_result"
    }
   ],
   "source": [
    "response"
   ]
  },
  {
   "cell_type": "code",
   "execution_count": 87,
   "id": "5a840794-e571-4efa-9525-6b95906d578f",
   "metadata": {},
   "outputs": [],
   "source": [
    "from langchain.output_parsers import ResponseSchema\n",
    "from langchain.output_parsers import StructuredOutputParser\n",
    "\n",
    "gift_schema = ResponseSchema(name=\"gift\", description=\"Was the item purchased as a gift for some else : Answer True if yes, False if not or unknown.\")\n",
    "delivery_days_schema = ResponseSchema(name=\"delivery_days\", description=\"How many days did it take for the product to arrive ? If this information is not found, output -1.\")\n",
    "price_value_schema = ResponseSchema(name=\"price_value\", description=\"Extract any sentences about the value or price, and output them as a comma separated Python list.\")\n",
    "\n",
    "response_schema = [gift_schema, delivery_days_schema, price_value_schema]\n",
    "\n",
    "output_parser = StructuredOutputParser.from_response_schemas(response_schema)\n",
    "\n",
    "format_instructions = output_parser.get_format_instructions(response_schema)"
   ]
  },
  {
   "cell_type": "code",
   "execution_count": 88,
   "id": "c63af59e-9046-44a8-b3d5-ca7ad82dab45",
   "metadata": {},
   "outputs": [
    {
     "name": "stdout",
     "output_type": "stream",
     "text": [
      "\n",
      "```json\n",
      "{\n",
      "\t\"gift\": string  // Was the item purchased as a gift for some else : Answer True if yes, False if not or unknown.\n",
      "\t\"delivery_days\": string  // How many days did it take for the product to arrive ? If this information is not found, output -1.\n",
      "\t\"price_value\": string  // Extract any sentences about the value or price, and output them as a comma separated Python list.\n",
      "}\n",
      "```\n"
     ]
    }
   ],
   "source": [
    "print(format_instructions)"
   ]
  },
  {
   "cell_type": "code",
   "execution_count": 89,
   "id": "483b3777-ed1a-4697-a68d-691b328d6527",
   "metadata": {},
   "outputs": [],
   "source": [
    "review_template_2 = \"\"\"\\\n",
    "For the following text, extract the following information:\n",
    "\n",
    "gift: Was the item purchased as a gift for some else : Answer True if yes, False if not or unknown.\n",
    "delivery_days: How many days did it take for the product to arrive ? If this information is not found, output -1.\n",
    "price_value: Extract any sentences about the value or price, and output them as a comma separated Python list.\n",
    "\n",
    "text: {text}\n",
    "\n",
    "{format_instructions}\n",
    "\"\"\""
   ]
  },
  {
   "cell_type": "code",
   "execution_count": 91,
   "id": "81bd6f6a-0011-48a6-9502-37deee5f0b11",
   "metadata": {},
   "outputs": [
    {
     "name": "stdout",
     "output_type": "stream",
     "text": [
      "For the following text, extract the following information:\n",
      "\n",
      "gift: Was the item purchased as a gift for some else : Answer True if yes, False if not or unknown.\n",
      "delivery_days: How many days did it take for the product to arrive ? If this information is not found, output -1.\n",
      "price_value: Extract any sentences about the value or price, and output them as a comma separated Python list.\n",
      "\n",
      "text: {text}\n",
      "\n",
      "{format_instructions}\n",
      "\n"
     ]
    }
   ],
   "source": [
    "print(review_template_2)"
   ]
  },
  {
   "cell_type": "code",
   "execution_count": 92,
   "id": "83cd3aad-740f-4936-8ccf-5b2c09f05db4",
   "metadata": {},
   "outputs": [],
   "source": [
    "review_prompt = prompt_template.from_template(review_template_2)\n",
    "review_messages = review_prompt.format_messages(text=customer_review, format_instructions=format_instructions)"
   ]
  },
  {
   "cell_type": "code",
   "execution_count": 93,
   "id": "ffd33a1b-04de-4b94-aa2a-1208a948c72c",
   "metadata": {},
   "outputs": [
    {
     "name": "stdout",
     "output_type": "stream",
     "text": [
      "[HumanMessage(content='For the following text, extract the following information:\\n\\ngift: Was the item purchased as a gift for some else : Answer True if yes, False if not or unknown.\\ndelivery_days: How many days did it take for the product to arrive ? If this information is not found, output -1.\\nprice_value: Extract any sentences about the value or price, and output them as a comma separated Python list.\\n\\ntext: This leaf blower is pretty amazing. It has four settings:candle blower, gentle breeze, windy city, and tournado. It arrived in two days, just in time for my wife\\'s anniversary present. I think my wife liked it so much she was speechless. So far I\\'ve been the only one using it, and I\\'ve been using it every other morning to clear the leaves on our lawn. It\\'s slightly more expensive than the other leaf blowers out there, but I think it\\'s a worth it for the extra features.\\n\\n\\n\\n```json\\n{\\n\\t\"gift\": string  // Was the item purchased as a gift for some else : Answer True if yes, False if not or unknown.\\n\\t\"delivery_days\": string  // How many days did it take for the product to arrive ? If this information is not found, output -1.\\n\\t\"price_value\": string  // Extract any sentences about the value or price, and output them as a comma separated Python list.\\n}\\n```\\n', additional_kwargs={}, response_metadata={})]\n"
     ]
    }
   ],
   "source": [
    "print(review_messages)"
   ]
  },
  {
   "cell_type": "code",
   "execution_count": 95,
   "id": "352745d5-80dd-4e18-bc4e-5161444ef092",
   "metadata": {},
   "outputs": [],
   "source": [
    "response = chat.invoke(review_messages)"
   ]
  },
  {
   "cell_type": "code",
   "execution_count": 96,
   "id": "2450e8e2-aaa4-4345-a611-1873c2f1c16e",
   "metadata": {},
   "outputs": [
    {
     "name": "stdout",
     "output_type": "stream",
     "text": [
      "```json\n",
      "{\n",
      "    \"gift\": \"True\",\n",
      "    \"delivery_days\": \"2\",\n",
      "    \"price_value\": [\"It's slightly more expensive than the other leaf blowers out there,\", \"I think it's a worth it for the extra features.\"]\n",
      "}\n",
      "```\n"
     ]
    }
   ],
   "source": [
    "print(response.content)"
   ]
  },
  {
   "cell_type": "code",
   "execution_count": 103,
   "id": "46eb3461-d20d-488d-a579-01f4a1508890",
   "metadata": {},
   "outputs": [
    {
     "name": "stdout",
     "output_type": "stream",
     "text": [
      "True\n",
      "2\n",
      "[\"It's slightly more expensive than the other leaf blowers out there,\", \"I think it's a worth it for the extra features.\"]\n",
      "True\n"
     ]
    }
   ],
   "source": [
    "output_dict = output_parser.parse(response.content)\n",
    "\n",
    "print(output_dict.get('gift'))\n",
    "print(output_dict.get('delivery_days'))\n",
    "print(output_dict.get('price_value'))\n",
    "\n",
    "print(output_dict['gift'])"
   ]
  },
  {
   "cell_type": "code",
   "execution_count": 104,
   "id": "a1b21807-1139-4c96-92d6-891cee0a47cc",
   "metadata": {},
   "outputs": [
    {
     "data": {
      "text/plain": [
       "dict"
      ]
     },
     "execution_count": 104,
     "metadata": {},
     "output_type": "execute_result"
    }
   ],
   "source": [
    "type(output_dict)"
   ]
  },
  {
   "cell_type": "code",
   "execution_count": null,
   "id": "4e6b7162-4478-46b5-a0f7-44c7291a222e",
   "metadata": {},
   "outputs": [],
   "source": []
  }
 ],
 "metadata": {
  "kernelspec": {
   "display_name": "Python 3 (ipykernel)",
   "language": "python",
   "name": "python3"
  },
  "language_info": {
   "codemirror_mode": {
    "name": "ipython",
    "version": 3
   },
   "file_extension": ".py",
   "mimetype": "text/x-python",
   "name": "python",
   "nbconvert_exporter": "python",
   "pygments_lexer": "ipython3",
   "version": "3.11.9"
  }
 },
 "nbformat": 4,
 "nbformat_minor": 5
}
